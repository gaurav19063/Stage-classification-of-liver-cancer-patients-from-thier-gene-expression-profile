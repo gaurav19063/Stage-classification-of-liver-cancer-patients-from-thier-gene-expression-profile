{
 "cells": [
  {
   "cell_type": "markdown",
   "metadata": {},
   "source": [
    "# Assignment 2 (Stage Classification of Liver Cancer)"
   ]
  },
  {
   "cell_type": "code",
   "execution_count": 2,
   "metadata": {},
   "outputs": [],
   "source": [
    "import pandas as pd\n",
    "from sklearn.model_selection import train_test_split\n",
    "from sklearn.utils import shuffle\n",
    "from sklearn.preprocessing import StandardScaler\n",
    "from sklearn.decomposition import PCA\n",
    "from sklearn.model_selection import GridSearchCV\n",
    "from sklearn import svm\n",
    "from sklearn.metrics import accuracy_score\n",
    "from sklearn.feature_selection import SelectKBest, chi2, f_regression\n",
    "from sklearn.preprocessing import Normalizer"
   ]
  },
  {
   "cell_type": "markdown",
   "metadata": {},
   "source": [
    "## To read Train and Test datasets"
   ]
  },
  {
   "cell_type": "code",
   "execution_count": 3,
   "metadata": {},
   "outputs": [
    {
     "name": "stdout",
     "output_type": "stream",
     "text": [
      "(279, 60485)\n",
      "(71, 60484)\n",
      "(279, 60483) (279,) (71, 60483)\n",
      "(71,)\n"
     ]
    }
   ],
   "source": [
    "data_train=pd.read_csv('train.csv')\n",
    "data_test=pd.read_csv(\"test.csv\")\n",
    "\n",
    "# data=pd.concat(data)\n",
    "# print(data_train.head(5))\n",
    "# print(data_test.head(5))\n",
    "print (data_train.shape)\n",
    "print (data_test.shape)\n",
    "data_train_lable=data_train['Label']\n",
    "data_train.drop(['Label','id'],axis=1,inplace=True)\n",
    "data_test_ID=data_test['id']\n",
    "data_test.drop(['id'],axis=1,inplace=True)\n",
    "\n",
    "# data_train,data_train_lable=shuffle(data_train,data_train_lable)\n",
    "# print (data_train.columns)\n",
    "# print(data_test.columns)\n",
    "print((data_train.shape),data_train_lable.shape,(data_test.shape))\n",
    "\n",
    "# data=pd.concat([data_train,data_test])\n",
    "# print(data.shape)\n",
    "print(data_test_ID.shape)\n"
   ]
  },
  {
   "cell_type": "markdown",
   "metadata": {},
   "source": [
    "## code for Normalization"
   ]
  },
  {
   "cell_type": "code",
   "execution_count": 4,
   "metadata": {},
   "outputs": [],
   "source": [
    "# transformer = Normalizer().fit(data_train)\n",
    "# data_train=pd.DataFrame(transformer.transform(data_train))\n",
    "# transformer = Normalizer().fit(data_test)\n",
    "# data_test=pd.DataFrame(transformer.transform(data_test))\n",
    "# X_train=data_train\n",
    "# y_train=data_train_lable\n",
    "# X_test=data_test\n",
    "# transformer = Normalizer().fit(data_train)\n",
    "# data_train=pd.DataFrame(transformer.transform(data_train))\n",
    "# transformer = Normalizer().fit(data_test)\n",
    "# data_test=pd.DataFrame(transformer.transform(data_test))"
   ]
  },
  {
   "cell_type": "markdown",
   "metadata": {},
   "source": [
    "# Feature selection till no of feature remains 7 using SelectKBest"
   ]
  },
  {
   "cell_type": "code",
   "execution_count": 5,
   "metadata": {},
   "outputs": [
    {
     "name": "stdout",
     "output_type": "stream",
     "text": [
      "RangeIndex(start=0, stop=7, step=1) RangeIndex(start=0, stop=7, step=1)\n"
     ]
    }
   ],
   "source": [
    "\n",
    "# pca = PCA(n_components=100)\n",
    "# data = pca.fit_transform(data)\n",
    "# X_train, X_test, y_train, y_test = train_test_split(data_train, data_train_lable, test_size=0.2)\n",
    "X_train=data_train\n",
    "y_train=data_train_lable\n",
    "X_test=data_test\n",
    "select_feature = SelectKBest(chi2, k=7).fit(X_train, y_train)\n",
    "selected_features_df = pd.DataFrame({'Feature':list(X_train.columns),\n",
    "                                     'Scores':select_feature.scores_})\n",
    "selected_features_df.sort_values(by='Scores', ascending=False)\n",
    "X_train_chi = pd.DataFrame(select_feature.transform(X_train))\n",
    "\n",
    "X_test_chi = pd.DataFrame(select_feature.transform(X_test))\n",
    "print(X_train_chi.columns,X_test_chi.columns)"
   ]
  },
  {
   "cell_type": "markdown",
   "metadata": {},
   "source": [
    "# GridSearchCV for finding best parameter configuration for SVC classifier"
   ]
  },
  {
   "cell_type": "code",
   "execution_count": 9,
   "metadata": {},
   "outputs": [
    {
     "name": "stdout",
     "output_type": "stream",
     "text": [
      "{'C': 0.01, 'gamma': 0.001, 'kernel': 'linear'}\n",
      "Cross Validation AUC Score: 0.7162751545089945\n"
     ]
    },
    {
     "name": "stderr",
     "output_type": "stream",
     "text": [
      "/usr/local/lib/python3.7/dist-packages/sklearn/model_selection/_search.py:814: DeprecationWarning: The default of the `iid` parameter will change from True to False in version 0.22 and will be removed in 0.24. This will change numeric results when test-set sizes are unequal.\n",
      "  DeprecationWarning)\n"
     ]
    }
   ],
   "source": [
    "def svc_param_selection(X, y, nfolds):\n",
    "    Cs = [0.001, 0.01, 0.1, 1, 10]\n",
    "    gammas = [0.001, 0.01, 0.1, 1]\n",
    "    kernels=['linear','rbf']\n",
    "    param_grid = {'C': Cs, 'gamma' : gammas,'kernel':kernels}\n",
    "    grid_search = GridSearchCV(svm.SVC(), param_grid, cv=nfolds,scoring = 'roc_auc')\n",
    "    grid_search.fit(X, y)\n",
    "    grid_search.best_params_\n",
    "    return grid_search.best_params_,grid_search\n",
    "params,clf=svc_param_selection(X_train_chi, y_train, 5)\n",
    "print(params)\n",
    "print(\"Cross Validation AUC Score:\",clf.best_score_)"
   ]
  },
  {
   "cell_type": "markdown",
   "metadata": {},
   "source": [
    "<b> using the classifier which is working optimally sometimes it may change because of some random states</b>"
   ]
  },
  {
   "cell_type": "code",
   "execution_count": 10,
   "metadata": {},
   "outputs": [
    {
     "data": {
      "text/plain": [
       "SVC(C=1, cache_size=200, class_weight=None, coef0=0.0,\n",
       "    decision_function_shape='ovr', degree=3, gamma=0.1, kernel='rbf',\n",
       "    max_iter=-1, probability=False, random_state=None, shrinking=True,\n",
       "    tol=0.001, verbose=False)"
      ]
     },
     "execution_count": 10,
     "metadata": {},
     "output_type": "execute_result"
    }
   ],
   "source": [
    "clf=svm.SVC(C= 1, gamma= 0.1, kernel= 'rbf')\n",
    "clf.fit(X_train_chi,y_train)"
   ]
  },
  {
   "cell_type": "markdown",
   "metadata": {},
   "source": [
    "## Predict and store the result of the model"
   ]
  },
  {
   "cell_type": "code",
   "execution_count": 11,
   "metadata": {},
   "outputs": [],
   "source": [
    "predictions=clf.predict(X_test_chi)\n",
    "# df_merged = pd.merge(data_test_ID, pd.DataFrame(predictions ))\n",
    "# df_merged['ID'] =data_test_ID\n",
    "# data_test_ID=data_test_IDpredictions\n",
    "# print(data_test_ID.head())\n",
    "# print(predictions.shape,data_test_ID.shape)\n",
    "prediction = pd.DataFrame({'Id':data_test_ID,'Label': predictions})\n",
    "# print(prediction)\n",
    "# pd.to_csv('check.csv')\n",
    "prediction.to_csv (r'output_dataframe_new_svm.csv', index = False, header=True)"
   ]
  },
  {
   "cell_type": "code",
   "execution_count": null,
   "metadata": {},
   "outputs": [],
   "source": []
  }
 ],
 "metadata": {
  "kernelspec": {
   "display_name": "Python 3",
   "language": "python",
   "name": "python3"
  },
  "language_info": {
   "codemirror_mode": {
    "name": "ipython",
    "version": 3
   },
   "file_extension": ".py",
   "mimetype": "text/x-python",
   "name": "python",
   "nbconvert_exporter": "python",
   "pygments_lexer": "ipython3",
   "version": "3.7.3"
  }
 },
 "nbformat": 4,
 "nbformat_minor": 4
}
